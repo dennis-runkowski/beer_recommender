{
 "cells": [
  {
   "cell_type": "code",
   "execution_count": 5,
   "metadata": {
    "collapsed": true
   },
   "outputs": [],
   "source": [
    "from redisearch import Client\n",
    "from redisearch import Query, AutoCompleter, Suggestion"
   ]
  },
  {
   "cell_type": "code",
   "execution_count": 2,
   "metadata": {
    "collapsed": true
   },
   "outputs": [],
   "source": [
    "def redis_client(index_name, port=6379, password=False):\n",
    "    \"\"\"Get redis client\n",
    "\n",
    "    Args:\n",
    "        index_name (str): Redis index name\n",
    "        port (int): Port for redis\n",
    "        password (str): Redis password\n",
    "    Returns:\n",
    "        obj: redis client\n",
    "    \"\"\"\n",
    "    client = Client(\n",
    "        index_name=index_name,\n",
    "        host='localhost',\n",
    "        port=port,\n",
    "        password=password\n",
    "    )\n",
    "    return client"
   ]
  },
  {
   "cell_type": "code",
   "execution_count": 3,
   "metadata": {
    "collapsed": true
   },
   "outputs": [],
   "source": [
    "client = redis_client(\"beer_index\")"
   ]
  },
  {
   "cell_type": "code",
   "execution_count": 12,
   "metadata": {},
   "outputs": [],
   "source": [
    "q = Query('beer').with_scores().paging(0, 100).highlight()"
   ]
  },
  {
   "cell_type": "code",
   "execution_count": 16,
   "metadata": {},
   "outputs": [
    {
     "data": {
      "text/plain": [
       "100"
      ]
     },
     "execution_count": 16,
     "metadata": {},
     "output_type": "execute_result"
    }
   ],
   "source": [
    "test = [d for d in client.search(q).docs]\n",
    "len(test)"
   ]
  },
  {
   "cell_type": "code",
   "execution_count": 22,
   "metadata": {},
   "outputs": [
    {
     "data": {
      "text/plain": [
       "Document {'id': 'beer:8e640f6d-a074-4bf8-96ed-58d71c52a332', 'payload': None, 'score': 2.0, 'title': 'Emergent White IPA', 'style': 'Specialty <b>Beer</b>', 'user_thumbs_down': '', 'user_thumbs_up': '', 'description': '', 'abv': '6.1', 'ibu': '55.0', 'brewer': 'Boulder <b>Beer</b> Company', 'brewer_description': '', 'brewer_url': 'https://boulderbeer.com/', 'brewer_facebook': '', 'brewer_instagram': '', 'brewer_twitter': ''}"
      ]
     },
     "execution_count": 22,
     "metadata": {},
     "output_type": "execute_result"
    }
   ],
   "source": [
    "test[99]"
   ]
  },
  {
   "cell_type": "code",
   "execution_count": 28,
   "metadata": {},
   "outputs": [
    {
     "data": {
      "text/plain": [
       "100"
      ]
     },
     "execution_count": 28,
     "metadata": {},
     "output_type": "execute_result"
    }
   ],
   "source": [
    "q2 = Query('beer').with_scores().paging(100, 100).highlight()\n",
    "test2 = [d for d in client.search(q2).docs]\n",
    "len(test2)"
   ]
  },
  {
   "cell_type": "code",
   "execution_count": 29,
   "metadata": {},
   "outputs": [
    {
     "data": {
      "text/plain": [
       "Document {'id': 'beer:db87eaeb-8542-4569-b27e-e08dad025f76', 'payload': None, 'score': 2.0, 'title': 'Belikin <b>Beer</b>', 'style': 'German-Style Leichtbier', 'user_thumbs_down': '', 'user_thumbs_up': '', 'description': '', 'abv': '4.8', 'ibu': '0.0', 'brewer': 'Belize Brewing', 'brewer_description': '', 'brewer_url': '', 'brewer_facebook': '', 'brewer_instagram': '', 'brewer_twitter': ''}"
      ]
     },
     "execution_count": 29,
     "metadata": {},
     "output_type": "execute_result"
    }
   ],
   "source": [
    "test2[0]"
   ]
  },
  {
   "cell_type": "code",
   "execution_count": null,
   "metadata": {
    "collapsed": true
   },
   "outputs": [],
   "source": []
  }
 ],
 "metadata": {
  "kernelspec": {
   "display_name": "beer_recommender",
   "language": "python",
   "name": "beer_recommender"
  },
  "language_info": {
   "codemirror_mode": {
    "name": "ipython",
    "version": 3
   },
   "file_extension": ".py",
   "mimetype": "text/x-python",
   "name": "python",
   "nbconvert_exporter": "python",
   "pygments_lexer": "ipython3",
   "version": "3.6.9"
  }
 },
 "nbformat": 4,
 "nbformat_minor": 2
}
