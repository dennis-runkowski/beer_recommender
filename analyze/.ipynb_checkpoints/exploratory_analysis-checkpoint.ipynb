{
 "cells": [
  {
   "cell_type": "code",
   "execution_count": 1,
   "metadata": {},
   "outputs": [],
   "source": [
    "import pandas as pd\n",
    "import seaborn as sns\n",
    "import json"
   ]
  },
  {
   "cell_type": "markdown",
   "metadata": {},
   "source": [
    "# Load Data from json files in a dataframe"
   ]
  },
  {
   "cell_type": "code",
   "execution_count": 3,
   "metadata": {},
   "outputs": [],
   "source": [
    "data = []\n",
    "for i in range(0, 13):\n",
    "    fname = f'../data/get_beers_batch_{i}_1606102731.json'\n",
    "    with open(fname, 'r') as f:\n",
    "        temp = json.load(f)\n",
    "    \n",
    "    data += temp"
   ]
  },
  {
   "cell_type": "code",
   "execution_count": 4,
   "metadata": {},
   "outputs": [
    {
     "data": {
      "text/plain": [
       "60418"
      ]
     },
     "execution_count": 4,
     "metadata": {},
     "output_type": "execute_result"
    }
   ],
   "source": []
  },
  {
   "cell_type": "code",
   "execution_count": 5,
   "metadata": {},
   "outputs": [
    {
     "data": {
      "text/plain": [
       "{'id': '3c4df9d1-84cb-485d-b510-a4a599d294a3',\n",
       " 'object': 'beer',\n",
       " 'name': '\"18\" Imperial IPA 2',\n",
       " 'style': 'American-Style Imperial Stout',\n",
       " 'description': None,\n",
       " 'abv': 11.1,\n",
       " 'ibu': None,\n",
       " 'cb_verified': False,\n",
       " 'brewer_verified': False,\n",
       " 'last_modified': 1588448205,\n",
       " 'brewer': {'id': 'ecbd38d5-957b-4239-ab90-e6509b84ffd9',\n",
       "  'object': 'brewer',\n",
       "  'name': 'Ship Bottom Brewery',\n",
       "  'description': None,\n",
       "  'short_description': None,\n",
       "  'url': 'http://shipbottombrewery.com/',\n",
       "  'cb_verified': False,\n",
       "  'brewer_verified': False,\n",
       "  'facebook_url': None,\n",
       "  'twitter_url': None,\n",
       "  'instagram_url': None,\n",
       "  'last_modified': 1588448205}}"
      ]
     },
     "execution_count": 5,
     "metadata": {},
     "output_type": "execute_result"
    }
   ],
   "source": []
  },
  {
   "cell_type": "code",
   "execution_count": null,
   "metadata": {},
   "outputs": [],
   "source": []
  }
 ],
 "metadata": {
  "kernelspec": {
   "display_name": "machine_learning",
   "language": "python",
   "name": "machine_learning"
  },
  "language_info": {
   "codemirror_mode": {
    "name": "ipython",
    "version": 3
   },
   "file_extension": ".py",
   "mimetype": "text/x-python",
   "name": "python",
   "nbconvert_exporter": "python",
   "pygments_lexer": "ipython3",
   "version": "3.6.7"
  }
 },
 "nbformat": 4,
 "nbformat_minor": 2
}
